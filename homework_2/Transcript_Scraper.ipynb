{
 "cells": [
  {
   "cell_type": "markdown",
   "id": "5ffd839d",
   "metadata": {},
   "source": [
    "# TEDx Transcript Scraper\n",
    "\n",
    "This scraper downloads the transcript of the talks present in the tedx_dataset.csv\n",
    "\n",
    "The main dataset is composed by the following attributes:\n",
    "- unique id\n",
    "- details\n",
    "- posted\n",
    "- main_speaker\n",
    "- event\n",
    "- title\n",
    "- num_views\n",
    "- url\n",
    "\n",
    "The transcript dataset is composed by the following attributes:\n",
    "- unique id\n",
    "- timestamp\n",
    "- sentence\n",
    "\n",
    "The notebook is organized with the following sections:\n",
    "\n",
    "- Setup of the env (install libraries, set up variables and credentials, ...)\n",
    "- Parse DOM of the web pages and download each single TEDx\n",
    "- Store the data on CSV files"
   ]
  },
  {
   "cell_type": "markdown",
   "id": "0681256f",
   "metadata": {},
   "source": [
    "### Setup of the env\n",
    "\n",
    "Install and import of python libraries "
   ]
  },
  {
   "cell_type": "code",
   "execution_count": null,
   "id": "f49df2bb",
   "metadata": {},
   "outputs": [],
   "source": [
    "!pip3 install selenium\n",
    "!pip3 install pandas"
   ]
  },
  {
   "cell_type": "code",
   "execution_count": null,
   "id": "ddb00bbe",
   "metadata": {},
   "outputs": [],
   "source": [
    "import requests\n",
    "import pprint\n",
    "import pandas as pd\n",
    "import time\n",
    "from selenium import webdriver as wd\n",
    "from selenium.webdriver.common.by import By\n",
    "from selenium.webdriver.support.ui import WebDriverWait\n",
    "from selenium.webdriver.support import expected_conditions as EC\n",
    "import selenium\n",
    "import json"
   ]
  },
  {
   "cell_type": "markdown",
   "id": "46917c6f",
   "metadata": {},
   "source": [
    "This notebook uses Chrome Driver to simulate user interaction with TEDx.\n",
    "To set up Chrome Driver on your laptop please refer to https://chromedriver.chromium.org/downloads\n"
   ]
  },
  {
   "cell_type": "code",
   "execution_count": null,
   "id": "d659741f",
   "metadata": {},
   "outputs": [],
   "source": [
    "chromedriver_path =  '/Users/feder/Downloads/chromedriver/chromedriver'"
   ]
  },
  {
   "cell_type": "code",
   "execution_count": null,
   "id": "959f28ad",
   "metadata": {},
   "outputs": [],
   "source": [
    "def get_browser():\n",
    "    chrome_options = wd.ChromeOptions()\n",
    "    chrome_options.add_argument('log-level=3')\n",
    "    browser = wd.Chrome(chromedriver_path, options=chrome_options)\n",
    "    return browser\n",
    "\n",
    "browser = get_browser()"
   ]
  },
  {
   "cell_type": "markdown",
   "id": "871728a9",
   "metadata": {},
   "source": [
    "# Get TEDx transcript\n",
    "\n",
    "`get_transcript` function takes as input an entry of the talk dict and adds the transcript object, composed of timestamp and sentence\n",
    "\n",
    "~~~~\n",
    "{'main_speaker': 'Alexandra Auer',\n",
    "  'url': 'https://www.ted.com/talks/alexandra_auer_the_intangible_effects_of_walls_apr_2020',\n",
    "  'id': 1,\n",
    "  ...\n",
    "  'transcript' : {\n",
    "    'timestamp': '00:04',\n",
    "    'sentence': 'Humankind loves to build walls. Have you ever noticed that?...'\n",
    "  },\n",
    "  ...\n",
    "}\n",
    "~~~~\n"
   ]
  },
  {
   "cell_type": "code",
   "execution_count": null,
   "id": "bad1c300",
   "metadata": {},
   "outputs": [],
   "source": [
    "# sentences to skip\n",
    "skippables = ['(Applause)', '(Laughter)', '(Laughs)', '(Inaudible)']\n",
    "\n",
    "def get_transcript(my_tedx):\n",
    "    if log:\n",
    "        print(\"Current url: \" + my_tedx['url'])\n",
    "    \n",
    "    try:\n",
    "        browser.get(my_tedx['url'] + '/transcript')\n",
    "        # transcript doesn't exists\n",
    "        if browser.title == \"TED | 404: Not Found\":\n",
    "            raise Exception('Transcript not available')\n",
    "        \n",
    "        # ensures all timestamps are generated\n",
    "        try:\n",
    "            player = WebDriverWait(browser, 5).until(EC.presence_of_element_located((By.CSS_SELECTOR, \"video[src]\")))\n",
    "        except:\n",
    "            pass # sometimes the video-player is inside an iframe and is impossible to locate it but the transcript exists \n",
    "        \n",
    "        # ensures English transcript is selected\n",
    "        browser.find_element_by_xpath(\"//select[@name='transcript']/option[@value='en']\").click()\n",
    "    \n",
    "        l = browser.find_elements_by_css_selector(\".Grid.Grid--with-gutter.d\\:f\\@md.p-b\\:4\")\n",
    "    \n",
    "        transcript = []\n",
    "        for rel in l:\n",
    "            sentence = rel.find_elements_by_css_selector(\"p\")[0].text\n",
    "            # skips useless lines\n",
    "            if sentence.strip() not in skip_sentences:  \n",
    "                timestamp = rel.find_elements_by_css_selector(\"button.sb\")[0].text\n",
    "                transcript.append({\"timestamp\": timestamp, \"sentence\": sentence})\n",
    "        my_tedx['transcript'] = transcript\n",
    "    except Exception as err:\n",
    "        print(err)\n",
    "        my_tedx['transcript'] = {}\n",
    "\n",
    "    return my_tedx"
   ]
  },
  {
   "cell_type": "markdown",
   "id": "d2878054",
   "metadata": {},
   "source": [
    "## Import data and store the new dataset to CSV file"
   ]
  },
  {
   "cell_type": "code",
   "execution_count": null,
   "id": "e6e0c4c4",
   "metadata": {},
   "outputs": [],
   "source": [
    "df = pd.read_csv(\"tedx_dataset.csv\")\n",
    "# splits the dataframe in a list of dict\n",
    "my_tedx_list = df.to_dict('records')\n",
    "len(my_tedx_list)"
   ]
  },
  {
   "cell_type": "code",
   "execution_count": null,
   "id": "ff5b29f3",
   "metadata": {
    "scrolled": false
   },
   "outputs": [],
   "source": [
    "my_tedx_list_final = []\n",
    "for my_tedx in my_tedx_list:\n",
    "    my_tedx_list_final.append(get_transcript(my_tedx))\n",
    "    \n",
    "print(\"Done\")"
   ]
  },
  {
   "cell_type": "code",
   "execution_count": null,
   "id": "8a3bff01",
   "metadata": {},
   "outputs": [],
   "source": [
    "transcript_dataset = []\n",
    "for o in my_tedx_list_final:\n",
    "    for t in o['transcript']:\n",
    "        transcript_dataset.append({\"idx\": o['idx'], \"timestamp\": t[\"timestamp\"], \"sentence\": t[\"sentence\"]})"
   ]
  },
  {
   "cell_type": "code",
   "execution_count": null,
   "id": "699fe637",
   "metadata": {},
   "outputs": [],
   "source": [
    "transcript_df = pd.DataFrame.from_dict(transcript_dataset)\n",
    "transcript_df.to_csv('transcript_dataset.csv', index=False)"
   ]
  }
 ],
 "metadata": {
  "kernelspec": {
   "display_name": "Python 3",
   "language": "python",
   "name": "python3"
  },
  "language_info": {
   "codemirror_mode": {
    "name": "ipython",
    "version": 3
   },
   "file_extension": ".py",
   "mimetype": "text/x-python",
   "name": "python",
   "nbconvert_exporter": "python",
   "pygments_lexer": "ipython3",
   "version": "3.9.2"
  }
 },
 "nbformat": 4,
 "nbformat_minor": 5
}
